{
 "cells": [
  {
   "cell_type": "code",
   "execution_count": 12,
   "metadata": {},
   "outputs": [],
   "source": [
    "from pyspark.sql import SparkSession\n",
    "spark = SparkSession.builder \\\n",
    "     .master(\"local\") \\\n",
    "     .appName(\"Word Count\") \\\n",
    "     .getOrCreate()"
   ]
  },
  {
   "cell_type": "code",
   "execution_count": 113,
   "metadata": {},
   "outputs": [],
   "source": [
    "class MatchData:\n",
    "    def __init__(self, line):\n",
    "        #print(\"line=\",line)\n",
    "        pieces = line['value'].split(',')\n",
    "        self.id1 = int(pieces[0])\n",
    "        self.id2 = int(pieces[1])\n",
    "        self.scores = [float(i) if i != '?' else float('nan') for i in pieces[2:11]]\n",
    "        if pieces[11] == 'TRUE':\n",
    "            self.matched = True\n",
    "        else:\n",
    "            self.matched = False\n",
    "\n",
    "def isHeader(line):\n",
    "    if \"id_1\" in line: \n",
    "        return True\n",
    "    else:\n",
    "        return False\n",
    "\n",
    "def parse(line):\n",
    "    return MatchData(line)"
   ]
  },
  {
   "cell_type": "code",
   "execution_count": 114,
   "metadata": {},
   "outputs": [],
   "source": [
    "log_text = spark.read.text(\"/tmp/linkage/linkage/block*csv\")"
   ]
  },
  {
   "cell_type": "code",
   "execution_count": 115,
   "metadata": {},
   "outputs": [],
   "source": [
    "from pyspark.sql.functions import udf\n",
    "from pyspark.sql.types import BooleanType\n",
    "\n",
    "get_isHeader_udf = udf(isHeader, BooleanType())\n",
    "parse_udf = udf(parse)"
   ]
  },
  {
   "cell_type": "code",
   "execution_count": 116,
   "metadata": {},
   "outputs": [],
   "source": [
    "log_text.value\n",
    "noheader = log_text.filter(get_isHeader_udf(log_text['value']) == False)"
   ]
  },
  {
   "cell_type": "code",
   "execution_count": null,
   "metadata": {},
   "outputs": [],
   "source": [
    "noheader.foreach(parse)"
   ]
  },
  {
   "cell_type": "code",
   "execution_count": null,
   "metadata": {},
   "outputs": [],
   "source": [
    "noheader.cache()"
   ]
  },
  {
   "cell_type": "code",
   "execution_count": null,
   "metadata": {},
   "outputs": [],
   "source": []
  }
 ],
 "metadata": {
  "kernelspec": {
   "display_name": "Python 3",
   "language": "python",
   "name": "python3"
  },
  "language_info": {
   "codemirror_mode": {
    "name": "ipython",
    "version": 3
   },
   "file_extension": ".py",
   "mimetype": "text/x-python",
   "name": "python",
   "nbconvert_exporter": "python",
   "pygments_lexer": "ipython3",
   "version": "3.6.5"
  }
 },
 "nbformat": 4,
 "nbformat_minor": 2
}
